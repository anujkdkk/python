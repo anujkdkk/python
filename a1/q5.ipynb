{
 "cells": [
  {
   "cell_type": "code",
   "execution_count": 1,
   "metadata": {},
   "outputs": [],
   "source": [
    "x=44"
   ]
  },
  {
   "cell_type": "code",
   "execution_count": 2,
   "metadata": {},
   "outputs": [
    {
     "data": {
      "text/plain": [
       "int"
      ]
     },
     "execution_count": 2,
     "metadata": {},
     "output_type": "execute_result"
    }
   ],
   "source": [
    "type(x)"
   ]
  },
  {
   "cell_type": "code",
   "execution_count": 3,
   "metadata": {},
   "outputs": [],
   "source": [
    "x=\"hello\""
   ]
  },
  {
   "cell_type": "code",
   "execution_count": 4,
   "metadata": {},
   "outputs": [
    {
     "data": {
      "text/plain": [
       "str"
      ]
     },
     "execution_count": 4,
     "metadata": {},
     "output_type": "execute_result"
    }
   ],
   "source": [
    "type(x)"
   ]
  },
  {
   "attachments": {},
   "cell_type": "markdown",
   "metadata": {},
   "source": [
    "In this example, we first declare a variable \"x\" and assign it the value 10. When we print the type of \"x\", it shows that \"x\" is an integer.\n",
    "\n",
    "Then, we assign the string \"hello\" to \"x\". When we print the type of \"x\" again, it shows that \"x\" is now a string.\n",
    "\n",
    "This is possible because Python is dynamically typed, which means that the data type of a variable is determined at runtime based on the value assigned to it. This allows for more flexibility in coding and makes it easier to write code quickly.\n",
    "\n",
    "However, it's important to note that the dynamic nature of Python variables can also lead to errors if you're not careful. For example, if you assign incompatible types to the same variable at different points in your code, it can cause unexpected behavior or errors. So, it's important to be mindful of the data types you're working with and make sure that your code is consistent."
   ]
  },
  {
   "cell_type": "markdown",
   "metadata": {},
   "source": []
  }
 ],
 "metadata": {
  "kernelspec": {
   "display_name": "Python 3",
   "language": "python",
   "name": "python3"
  },
  "language_info": {
   "codemirror_mode": {
    "name": "ipython",
    "version": 3
   },
   "file_extension": ".py",
   "mimetype": "text/x-python",
   "name": "python",
   "nbconvert_exporter": "python",
   "pygments_lexer": "ipython3",
   "version": "3.11.3"
  },
  "orig_nbformat": 4
 },
 "nbformat": 4,
 "nbformat_minor": 2
}
