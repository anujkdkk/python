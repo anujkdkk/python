{
 "cells": [
  {
   "attachments": {},
   "cell_type": "markdown",
   "metadata": {},
   "source": [
    "using reserved keywords as variable names, as they have a special meaning in Python. Examples of reserved keywords include \"if\", \"else\", \"while\", and \"for\".\n"
   ]
  },
  {
   "attachments": {},
   "cell_type": "markdown",
   "metadata": {},
   "source": [
    "Use descriptive names for variables that clearly indicate their purpose. For example, if you're storing a person's age, you could name the variable \"age\"."
   ]
  },
  {
   "attachments": {},
   "cell_type": "markdown",
   "metadata": {},
   "source": [
    "the name contains multiple words, separate them using underscores (\"_\"). For example, \"my_variable\" is a valid variable name."
   ]
  },
  {
   "attachments": {},
   "cell_type": "markdown",
   "metadata": {},
   "source": [
    "you can only use \"_\" symbol in variable"
   ]
  },
  {
   "cell_type": "markdown",
   "metadata": {},
   "source": []
  }
 ],
 "metadata": {
  "language_info": {
   "name": "python"
  },
  "orig_nbformat": 4
 },
 "nbformat": 4,
 "nbformat_minor": 2
}
